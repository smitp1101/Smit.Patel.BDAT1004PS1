{
  "nbformat": 4,
  "nbformat_minor": 0,
  "metadata": {
    "colab": {
      "provenance": [],
      "collapsed_sections": [
        "hglILEWwtyuq",
        "CLSAy3FYuBrc",
        "4I9zXl1EveKb",
        "qsiVTFRiu_jN"
      ]
    },
    "kernelspec": {
      "name": "python3",
      "display_name": "Python 3"
    },
    "language_info": {
      "name": "python"
    }
  },
  "cells": [
    {
      "cell_type": "markdown",
      "source": [
        "\n",
        "\n",
        "```\n",
        "# This is formatted as code\n",
        "```\n",
        "\n",
        "# Question 1\n",
        "Determined how many letters were in a string and looked up whether a word contained a substring.\n",
        "\n",
        "used the in operator to verify the existence of the substring and len() to count the letters.\n",
        "\n",
        "In C#, the following expressions correspond to these data types:\n",
        "* 5: Integer (int)\n",
        "* 5.0: Floating-point number (double)\n",
        "* 5 > 1: Boolean (bool)\n",
        "* '5': Character (char)\n",
        "* 5 * 2: Integer (int)\n",
        "* '5' * 2: String (string)\n",
        "* '5' + '2': String (string)\n",
        "* 5 / 2: Integer (int)\n",
        "* 5 % 2: Integer (int)\n",
        "* {5, 2, 1}: Integer array (int[])\n",
        "* 5 == 3: Boolean (bool)\n",
        "* Pi (π): Floating-point number (double)"
      ],
      "metadata": {
        "id": "kbO8-VR3oiBC"
      }
    },
    {
      "cell_type": "markdown",
      "source": [
        "# Question 2"
      ],
      "metadata": {
        "id": "M_qNym8xQlBw"
      }
    },
    {
      "cell_type": "markdown",
      "source": [
        "Compared three long words to identify the longest\n",
        "\n",
        "Applied max() with key=len to find the longest word."
      ],
      "metadata": {
        "id": "f20aZl2E8cFG"
      }
    },
    {
      "cell_type": "code",
      "source": [
        "# a. How many letters are there in 'Supercalifragilisticexpialidocious'?\n",
        "word = 'Supercalifragilisticexpialidocious'\n",
        "length_of_word = len(word)\n",
        "print(f\"a. The word '{word}' has {length_of_word} letters.\")\n",
        "\n",
        "# b. Does 'Supercalifragilisticexpialidocious' contain 'ice' as a substring?\n",
        "contains_ice = 'ice' in word\n",
        "print(f\"b. Does the word contain 'ice'? {contains_ice}\")\n",
        "\n",
        "# c. Which of the following words is the longest?\n",
        "words = ['Supercalifragilisticexpialidocious', 'Honorificabilitudinitatibus', 'Bababadalgharaghtakamminarronnkonn']\n",
        "longest_word = max(words, key=len)\n",
        "print(f\"c. The longest word is '{longest_word}'.\")\n",
        "\n",
        "# d. Which composer comes first in the dictionary and which one comes last?\n",
        "composers = ['Berlioz', 'Borodin', 'Brian', 'Bartok', 'Bellini', 'Buxtehude', 'Bernstein']\n",
        "first_composer = min(composers)\n",
        "last_composer = max(composers)\n",
        "print(f\"d. The composer that comes first is '{first_composer}' and the one that comes last is '{last_composer}'.\")\n"
      ],
      "metadata": {
        "colab": {
          "base_uri": "https://localhost:8080/"
        },
        "id": "3vObowA9Qous",
        "outputId": "8fc802c4-481c-41ec-93d2-3e6db65ed51f"
      },
      "execution_count": null,
      "outputs": [
        {
          "output_type": "stream",
          "name": "stdout",
          "text": [
            "a. The word 'Supercalifragilisticexpialidocious' has 34 letters.\n",
            "b. Does the word contain 'ice'? True\n",
            "c. The longest word is 'Supercalifragilisticexpialidocious'.\n",
            "d. The composer that comes first is 'Bartok' and the one that comes last is 'Buxtehude'.\n"
          ]
        }
      ]
    },
    {
      "cell_type": "markdown",
      "source": [
        "# Question 3"
      ],
      "metadata": {
        "id": "yxeVbLF4RDf2"
      }
    },
    {
      "cell_type": "markdown",
      "source": [
        "Compared composer names alphabetically.\n",
        "\n",
        "Used min() and max() to identify the first and last composers alphabetically.\n"
      ],
      "metadata": {
        "id": "iiGnficC8piV"
      }
    },
    {
      "cell_type": "code",
      "source": [
        "import math\n",
        "\n",
        "def triangleArea(a, b, c):\n",
        "    # Calculate the semi-perimeter\n",
        "    s = (a + b + c) / 2\n",
        "    # Apply Heron's formula to calculate the area\n",
        "    area = math.sqrt(s * (s - a) * (s - b) * (s - c))\n",
        "    return area\n",
        "\n",
        "triangle_area = triangleArea(2, 2, 2)\n",
        "print(triangle_area)  # Output: 1.7320508075688772\n"
      ],
      "metadata": {
        "colab": {
          "base_uri": "https://localhost:8080/"
        },
        "id": "bv76z3PMRDKl",
        "outputId": "619b9215-2ab1-4804-a216-8e34fe72ce33"
      },
      "execution_count": null,
      "outputs": [
        {
          "output_type": "stream",
          "name": "stdout",
          "text": [
            "1.7320508075688772\n"
          ]
        }
      ]
    },
    {
      "cell_type": "markdown",
      "source": [
        "# Question 4"
      ],
      "metadata": {
        "id": "bsnFRixBRIkr"
      }
    },
    {
      "cell_type": "markdown",
      "source": [
        "Used Heron’s formula to compute the area of a triangle based on side lengths.\n",
        "\n",
        "Calculated the semi-perimeter and applied Heron’s formula using math.sqrt()."
      ],
      "metadata": {
        "id": "2tHA2iWm84LC"
      }
    },
    {
      "cell_type": "code",
      "source": [
        "# Function to separate odd and even integers into separate arrays\n",
        "def separate_odd_even(arr):\n",
        "    even_elements = []\n",
        "    odd_elements = []\n",
        "\n",
        "    for num in arr:\n",
        "        if num % 2 == 0:\n",
        "            even_elements.append(num)\n",
        "        else:\n",
        "            odd_elements.append(num)\n",
        "\n",
        "    return even_elements, odd_elements\n",
        "\n",
        "arr = [25, 47, 42, 56, 32]\n",
        "\n",
        "# Separate the integers into even and odd arrays\n",
        "even_elements, odd_elements = separate_odd_even(arr)\n",
        "\n",
        "print(\"The Even elements are:\")\n",
        "print(\" \".join(map(str, even_elements)))\n",
        "\n",
        "print(\"The Odd elements are:\")\n",
        "print(\" \".join(map(str, odd_elements)))\n"
      ],
      "metadata": {
        "colab": {
          "base_uri": "https://localhost:8080/"
        },
        "id": "DvQxB1MSRLUQ",
        "outputId": "08cc84fd-b7b8-4357-cbe7-2c10666142fe"
      },
      "execution_count": null,
      "outputs": [
        {
          "output_type": "stream",
          "name": "stdout",
          "text": [
            "The Even elements are:\n",
            "42 56 32\n",
            "The Odd elements are:\n",
            "25 47\n"
          ]
        }
      ]
    },
    {
      "cell_type": "markdown",
      "source": [
        "# Question 5"
      ],
      "metadata": {
        "id": "B18QeT9jRiEz"
      }
    },
    {
      "cell_type": "markdown",
      "source": [
        "Separated numbers into two groups: odd and even.\n",
        "\n",
        "iterated through a list, categorising numbers according to modulus %."
      ],
      "metadata": {
        "id": "cBfdAEy19B79"
      }
    },
    {
      "cell_type": "code",
      "source": [
        "# Part a: Function to check if a point is inside a rectangle\n",
        "def is_point_inside_rectangle(point_x, point_y, rect_x1, rect_y1, rect_x2, rect_y2):\n",
        "    return rect_x1 <= point_x <= rect_x2 and rect_y1 <= point_y <= rect_y2\n",
        "\n",
        "print(is_point_inside_rectangle(1, 1, 0, 0, 2, 3))\n",
        "print(is_point_inside_rectangle(-1, -1, 0, 0, 2, 3))\n",
        "\n",
        "# Part b: Checking if the point (1, 1) is inside two given rectangles\n",
        "is_inside_both_rectangles = (is_point_inside_rectangle(1, 1, 0.3, 0.5, 1.1, 0.7) and\n",
        "                              is_point_inside_rectangle(1, 1, 0.5, 0.2, 1.1, 2))\n",
        "print(is_inside_both_rectangles)\n"
      ],
      "metadata": {
        "colab": {
          "base_uri": "https://localhost:8080/"
        },
        "id": "2sQxHIZPRkj_",
        "outputId": "39f9f838-590b-4df2-9077-ff145f11507e"
      },
      "execution_count": null,
      "outputs": [
        {
          "output_type": "stream",
          "name": "stdout",
          "text": [
            "True\n",
            "False\n",
            "False\n"
          ]
        }
      ]
    },
    {
      "cell_type": "markdown",
      "source": [
        "# Question 6"
      ],
      "metadata": {
        "id": "37k9h26DtULK"
      }
    },
    {
      "cell_type": "markdown",
      "source": [
        "Determined if a point was inside a rectangle based on coordinates.\n",
        "\n",
        "Using comparison operators, the coordinates of the point were compared to the bounds of the rectangle."
      ],
      "metadata": {
        "id": "eGGILq8m9W-E"
      }
    },
    {
      "cell_type": "code",
      "source": [
        "def pig_latin_translation(input_word):\n",
        "    # Convert the word to lowercase\n",
        "    input_word = input_word.lower()\n",
        "\n",
        "    # Check if the first letter is a vowel or consonant\n",
        "    if input_word[0] in \"aeiou\":\n",
        "        return f\"{input_word}way\"\n",
        "    else:\n",
        "        return f\"{input_word[1:]}{input_word[0]}ay\"\n",
        "\n",
        "print(pig_latin_translation('happy'))\n",
        "print(pig_latin_translation('pencil'))\n",
        "print(pig_latin_translation('enter'))\n",
        "print(pig_latin_translation('other'))"
      ],
      "metadata": {
        "id": "rXcmiE1aw86d",
        "colab": {
          "base_uri": "https://localhost:8080/"
        },
        "outputId": "701c4125-8679-4318-c3de-bf0d9e9b9aba"
      },
      "execution_count": null,
      "outputs": [
        {
          "output_type": "stream",
          "name": "stdout",
          "text": [
            "appyhay\n",
            "encilpay\n",
            "enterway\n",
            "otherway\n"
          ]
        }
      ]
    },
    {
      "cell_type": "markdown",
      "source": [
        "# Question 7"
      ],
      "metadata": {
        "id": "hglILEWwtyuq"
      }
    },
    {
      "cell_type": "markdown",
      "source": [
        "Verified if a point was inside two different rectangles simultaneously\n",
        "\n",
        "Used two instances of the inside() method with logic to verify both conditions."
      ],
      "metadata": {
        "id": "kLigKNoY-FGu"
      }
    },
    {
      "cell_type": "code",
      "source": [
        "def count_blood_types(file_name):\n",
        "    # Define the blood types to monitor\n",
        "    blood_groups = ['A', 'B', 'AB', 'O', 'OO']\n",
        "\n",
        "    # Create a dictionary to count occurrences of each blood type\n",
        "    blood_group_counts = dict.fromkeys(blood_groups, 0)\n",
        "\n",
        "    # Open the file and read the contents\n",
        "    with open(file_name, 'r') as f:\n",
        "        blood_list = f.read().split()\n",
        "\n",
        "    # Count how many times each blood type appears in the file\n",
        "    for blood in blood_list:\n",
        "        if blood in blood_group_counts:\n",
        "            blood_group_counts[blood] += 1\n",
        "\n",
        "    # Print out the count for each blood group\n",
        "    for group in blood_groups:\n",
        "        count = blood_group_counts[group]\n",
        "        if count == 0:\n",
        "            print(f\"No patients with blood type {group}.\")\n",
        "        elif count == 1:\n",
        "            print(f\"1 patient with blood type {group}.\")\n",
        "        else:\n",
        "            print(f\"{count} patients with blood type {group}.\")\n",
        "\n",
        "# Example usage:\n",
        "count_blood_types('bloodtype1.txt')\n"
      ],
      "metadata": {
        "id": "lswYfKTQykeN",
        "colab": {
          "base_uri": "https://localhost:8080/"
        },
        "outputId": "c9ad234c-b679-48f6-d00c-79af9c2e57d2"
      },
      "execution_count": null,
      "outputs": [
        {
          "output_type": "stream",
          "name": "stdout",
          "text": [
            "15 patients with blood type A.\n",
            "1 patient with blood type B.\n",
            "13 patients with blood type AB.\n",
            "15 patients with blood type O.\n",
            "No patients with blood type OO.\n"
          ]
        }
      ]
    },
    {
      "cell_type": "markdown",
      "source": [
        "# Question 8\n"
      ],
      "metadata": {
        "id": "CLSAy3FYuBrc"
      }
    },
    {
      "cell_type": "markdown",
      "source": [
        "Translated a word into Pig-Latin according to whether it began with a vowel or a consonant.\n",
        "\n",
        "Used conditionals to manipulate string based on first letter and append the appropriate suffix."
      ],
      "metadata": {
        "id": "e3zC7VMt-4WO"
      }
    },
    {
      "cell_type": "code",
      "source": [
        "def currency_converter(currency_code, amount):\n",
        "    # Read currency rates from the file\n",
        "    rates = {}\n",
        "    with open('currencies.txt', 'r') as file:\n",
        "        for line in file:\n",
        "            parts = line.split()\n",
        "            if len(parts) == 3:\n",
        "                code, rate, _ = parts\n",
        "                rates[code] = float(rate)\n",
        "\n",
        "    # Convert the amount to USD\n",
        "    if currency_code in rates:\n",
        "        print(amount * rates[currency_code])\n",
        "    else:\n",
        "        print(\"Currency code not found.\")\n",
        "\n",
        "currency_converter('EUR', 100)\n",
        "currency_converter('JPY', 100)"
      ],
      "metadata": {
        "id": "9A1DMB6L0aCu",
        "colab": {
          "base_uri": "https://localhost:8080/"
        },
        "outputId": "a7c0a08a-98c4-473c-a8d3-44c56014a977"
      },
      "execution_count": null,
      "outputs": [
        {
          "output_type": "stream",
          "name": "stdout",
          "text": [
            "122.96544\n",
            "Currency code not found.\n"
          ]
        }
      ]
    },
    {
      "cell_type": "markdown",
      "source": [
        "# Question 9\n",
        "\n",
        "Here are the types of exceptions that each scenario will trigger:\n",
        "\n",
        "* Attempting to add incompatible variables, such as 6 + 'a':\n",
        "This results in a 'TypeError'. Python cannot add a number and a string since they are incompatible data types for this operation.\n",
        "\n",
        "* Accessing the 12th item in a list with only 10 items:\n",
        "This leads to an 'IndexError'. In Python, lists use zero-based indexing, so with 10 items, valid indices are 0 to 9. Trying to access an index outside this range will raise an 'IndexError'.\n",
        "\n",
        "* Providing an out-of-range input for a function, like calling math.sqrt(-1.0):\n",
        "This triggers a 'ValueError'. The math.sqrt() function calculates the square root, but since negative numbers have no real square root, passing one will raise a 'ValueError'.\n",
        "\n",
        "* Using an undefined variable, such as print(x) when x is not defined:\n",
        "This causes a 'NameError'. If a variable is not declared before use, Python will raise a 'NameError', indicating it cannot find the variable.\n",
        "\n",
        "* Trying to open a non-existent file, such as due to a typo in the file name or incorrect directory:\n",
        "This will result in a 'FileNotFoundError'. When using the open() function to access a file that doesn't exist, Python will raise this error to indicate the file cannot be located."
      ],
      "metadata": {
        "id": "kqfLoYan3lKa"
      }
    },
    {
      "cell_type": "markdown",
      "source": [
        "# Question 10"
      ],
      "metadata": {
        "id": "qsiVTFRiu_jN"
      }
    },
    {
      "cell_type": "code",
      "source": [
        "def letter_frequencies(input_text):\n",
        "    alphabet = 'abcdefghijklmnopqrstuvwxyz'\n",
        "    frequency_counts = [0] * len(alphabet)\n",
        "\n",
        "    input_text = input_text.lower()\n",
        "\n",
        "    for character in input_text:\n",
        "        if character in alphabet:\n",
        "            position = alphabet.index(character)\n",
        "            frequency_counts[position] += 1\n",
        "\n",
        "    print(frequency_counts)\n",
        "\n",
        "letter_frequencies(\"The quick red fox got bored and went home.\")\n",
        "letter_frequencies('apple')"
      ],
      "metadata": {
        "id": "ByAAdKJ3vcTp",
        "colab": {
          "base_uri": "https://localhost:8080/"
        },
        "outputId": "78e46b14-1a1e-420d-9be7-70aad95c14ba"
      },
      "execution_count": null,
      "outputs": [
        {
          "output_type": "stream",
          "name": "stdout",
          "text": [
            "[1, 1, 1, 3, 5, 1, 1, 2, 1, 0, 1, 0, 1, 2, 4, 0, 1, 2, 0, 3, 1, 0, 1, 1, 0, 0]\n",
            "[1, 0, 0, 0, 1, 0, 0, 0, 0, 0, 0, 1, 0, 0, 0, 2, 0, 0, 0, 0, 0, 0, 0, 0, 0, 0]\n"
          ]
        }
      ]
    }
  ]
}